{
 "cells": [
  {
   "cell_type": "markdown",
   "metadata": {},
   "source": [
    "## Lab1"
   ]
  },
  {
   "cell_type": "code",
   "execution_count": 1,
   "metadata": {},
   "outputs": [
    {
     "ename": "ModuleNotFoundError",
     "evalue": "No module named 'cv2'",
     "output_type": "error",
     "traceback": [
      "\u001b[0;31m---------------------------------------------------------------------------\u001b[0m",
      "\u001b[0;31mModuleNotFoundError\u001b[0m                       Traceback (most recent call last)",
      "\u001b[0;32m<ipython-input-1-4bedba0ab6e3>\u001b[0m in \u001b[0;36m<module>\u001b[0;34m\u001b[0m\n\u001b[0;32m----> 1\u001b[0;31m \u001b[0;32mimport\u001b[0m \u001b[0mcv2\u001b[0m\u001b[0;34m\u001b[0m\u001b[0;34m\u001b[0m\u001b[0m\n\u001b[0m\u001b[1;32m      2\u001b[0m \u001b[0;34m\u001b[0m\u001b[0m\n\u001b[1;32m      3\u001b[0m \u001b[0;31m#only one camera so '0', if more than one cams then '1', etc\u001b[0m\u001b[0;34m\u001b[0m\u001b[0;34m\u001b[0m\u001b[0;34m\u001b[0m\u001b[0m\n\u001b[1;32m      4\u001b[0m \u001b[0mcam\u001b[0m \u001b[0;34m=\u001b[0m \u001b[0mcv2\u001b[0m\u001b[0;34m.\u001b[0m\u001b[0mVideoCapture\u001b[0m\u001b[0;34m(\u001b[0m\u001b[0;36m0\u001b[0m\u001b[0;34m)\u001b[0m\u001b[0;34m\u001b[0m\u001b[0;34m\u001b[0m\u001b[0m\n\u001b[1;32m      5\u001b[0m \u001b[0;34m\u001b[0m\u001b[0m\n",
      "\u001b[0;31mModuleNotFoundError\u001b[0m: No module named 'cv2'"
     ]
    }
   ],
   "source": [
    "import cv2\n",
    "\n",
    "#only one camera so '0', if more than one cams then '1', etc\n",
    "cam = cv2.VideoCapture(0)\n",
    "\n",
    "cv2.namedWindow(\"test\")\n",
    "\n",
    "# to name images\n",
    "img_counter = 0\n",
    "\n",
    "while True:\n",
    "    # Capture frame-by-frame, returns bool value, True if it has captured frame successfully\n",
    "    #ret stores return value, and frame is a numpy array of dim (480, 848, 3)\n",
    "    ret, frame = cam.read()\n",
    "    #print(frame.shape)\n",
    "    if not ret:\n",
    "        print(\"failed to grab frame\")\n",
    "        break\n",
    "    cv2.imshow(\"test\", frame)\n",
    "\n",
    "    #keyboard binding function, arguement: time, here waits for 1 sec to detect key press\n",
    "    k = cv2.waitKey(1)\n",
    "    if k%256 == 27:\n",
    "        # ESC pressed\n",
    "        print(\"Escape hit, closing...\")\n",
    "        break\n",
    "    elif k%256 == 32:\n",
    "        # SPACE pressed\n",
    "        img_name = \"opencv_frame_{}.png\".format \n",
    "        cv2.imwrite('/Users/abhibhagupta/Desktop/8th_sem/CV_lab/images/'+img_name, frame)\n",
    "        print(\"{} written!\".format(img_name))\n",
    "        img_counter += 1\n",
    "\n",
    "cam.release()\n",
    "cv2.destroyAllWindows()"
   ]
  },
  {
   "cell_type": "code",
   "execution_count": 5,
   "metadata": {},
   "outputs": [
    {
     "ename": "AttributeError",
     "evalue": "'numpy.ndarray' object has no attribute 'getdata'",
     "output_type": "error",
     "traceback": [
      "\u001b[0;31m---------------------------------------------------------------------------\u001b[0m",
      "\u001b[0;31mAttributeError\u001b[0m                            Traceback (most recent call last)",
      "\u001b[0;32m<ipython-input-5-b3e4e2433c98>\u001b[0m in \u001b[0;36m<module>\u001b[0;34m\u001b[0m\n\u001b[1;32m     17\u001b[0m \u001b[0;31m#Corresponding channels are seperated\u001b[0m\u001b[0;34m\u001b[0m\u001b[0;34m\u001b[0m\u001b[0;34m\u001b[0m\u001b[0m\n\u001b[1;32m     18\u001b[0m \u001b[0;34m\u001b[0m\u001b[0m\n\u001b[0;32m---> 19\u001b[0;31m \u001b[0mdata\u001b[0m\u001b[0;34m=\u001b[0m\u001b[0mim\u001b[0m\u001b[0;34m.\u001b[0m\u001b[0mgetdata\u001b[0m\u001b[0;34m(\u001b[0m\u001b[0;34m)\u001b[0m\u001b[0;34m\u001b[0m\u001b[0;34m\u001b[0m\u001b[0m\n\u001b[0m\u001b[1;32m     20\u001b[0m \u001b[0mr\u001b[0m\u001b[0;34m=\u001b[0m\u001b[0;34m[\u001b[0m\u001b[0;34m(\u001b[0m\u001b[0md\u001b[0m\u001b[0;34m[\u001b[0m\u001b[0;36m0\u001b[0m\u001b[0;34m]\u001b[0m\u001b[0;34m,\u001b[0m\u001b[0;36m0\u001b[0m\u001b[0;34m,\u001b[0m\u001b[0;36m0\u001b[0m\u001b[0;34m)\u001b[0m \u001b[0;32mfor\u001b[0m \u001b[0md\u001b[0m \u001b[0;32min\u001b[0m \u001b[0mdata\u001b[0m\u001b[0;34m]\u001b[0m\u001b[0;34m\u001b[0m\u001b[0;34m\u001b[0m\u001b[0m\n\u001b[1;32m     21\u001b[0m \u001b[0mg\u001b[0m\u001b[0;34m=\u001b[0m\u001b[0;34m[\u001b[0m\u001b[0;34m(\u001b[0m\u001b[0;36m0\u001b[0m\u001b[0;34m,\u001b[0m\u001b[0md\u001b[0m\u001b[0;34m[\u001b[0m\u001b[0;36m1\u001b[0m\u001b[0;34m]\u001b[0m\u001b[0;34m,\u001b[0m\u001b[0;36m0\u001b[0m\u001b[0;34m)\u001b[0m \u001b[0;32mfor\u001b[0m \u001b[0md\u001b[0m \u001b[0;32min\u001b[0m \u001b[0mdata\u001b[0m\u001b[0;34m]\u001b[0m\u001b[0;34m\u001b[0m\u001b[0;34m\u001b[0m\u001b[0m\n",
      "\u001b[0;31mAttributeError\u001b[0m: 'numpy.ndarray' object has no attribute 'getdata'"
     ]
    }
   ],
   "source": [
    "import cv2\n",
    "import numpy as np\n",
    "from matplotlib import pyplot as plt \n",
    "\n",
    "img = cv2.imread('/Users/abhibhagupta/Desktop/8th_sem/CV_lab/images/opencv_frame_0.png') \n",
    "im=np.array(img)\n",
    "  \n",
    "# b_channel, g_channel, r_channel = cv2.split(image)\n",
    "\n",
    "# alpha_channel = np.ones(b_channel.shape, dtype=b_channel.dtype) * 50 #creating a dummy alpha channel image.\n",
    "\n",
    "# img_BGRA = cv2.merge((b_channel, g_channel, r_channel, alpha_channel))    \n",
    "    \n",
    "# print(img_BGRA.shape)\n",
    "\n",
    "# B, G, R, = cv2.split(image) \n",
    "#Corresponding channels are seperated \n",
    "\n",
    "data=img.getdata()\n",
    "r=[(d[0],0,0) for d in data]\n",
    "g=[(0,d[1],0) for d in data]\n",
    "b=[(0,0,d[2]) for d in data]\n",
    "\n",
    "cv2.imshow(\"original\", image) \n",
    "cv2.waitKey(0) \n",
    "  \n",
    "cv2.imshow(\"blue\", r) \n",
    "cv2.waitKey(0) \n",
    "  \n",
    "cv2.imshow(\"green\", g) \n",
    "cv2.waitKey(0) \n",
    "  \n",
    "cv2.imshow(\"red\", b) \n",
    "cv2.waitKey(0) \n",
    "\n",
    "# cv2.imshow(\"alpha\", A) \n",
    "# cv2.waitKey(0) \n",
    "\n",
    "cv2.destroyAllWindows() "
   ]
  },
  {
   "cell_type": "code",
   "execution_count": 7,
   "metadata": {},
   "outputs": [
    {
     "name": "stdout",
     "output_type": "stream",
     "text": [
      "(480, 848, 4)\n"
     ]
    }
   ],
   "source": [
    "import cv2\n",
    "import numpy as np\n",
    "from matplotlib import pyplot as plt \n",
    "\n",
    "img = cv2.imread('/Users/abhibhagupta/Desktop/8th_sem/CV_lab/images/opencv_frame_0.png') \n",
    "im=np.array(img)\n",
    "  \n",
    "b_channel, g_channel, r_channel = cv2.split(im)\n",
    "\n",
    "alpha_channel = np.ones(b_channel.shape, dtype=b_channel.dtype)  #creating a dummy alpha channel image.\n",
    "\n",
    "img_BGRA = cv2.merge((b_channel, g_channel, r_channel, alpha_channel))    \n",
    "    \n",
    "print(img_BGRA.shape)"
   ]
  },
  {
   "cell_type": "code",
   "execution_count": 7,
   "metadata": {},
   "outputs": [
    {
     "data": {
      "text/plain": [
       "True"
      ]
     },
     "execution_count": 7,
     "metadata": {},
     "output_type": "execute_result"
    }
   ],
   "source": [
    "import cv2\n",
    "import numpy as np\n",
    "img = cv2.imread(\"/Users/abhibhagupta/Desktop/8th_sem/CV_lab/images/opencv_frame_0.png\")\n",
    "# b,g,r = cv2.split(img)\n",
    "b = img[:,:,0]\n",
    "g = img[:,:,1]\n",
    "r = img[:,:,2]\n",
    "cv2.imwrite('blue_channel.jpg', b)\n"
   ]
  },
  {
   "cell_type": "code",
   "execution_count": 6,
   "metadata": {},
   "outputs": [
    {
     "data": {
      "text/plain": [
       "(480, 848, 3)"
      ]
     },
     "execution_count": 6,
     "metadata": {},
     "output_type": "execute_result"
    }
   ],
   "source": [
    "image = cv2.imread('opencv_frame_0.png',cv2.IMREAD_UNCHANGED) \n",
    "image.shape #doesnt have transparency channel"
   ]
  },
  {
   "cell_type": "code",
   "execution_count": 48,
   "metadata": {},
   "outputs": [],
   "source": [
    "# import cv2 \n",
    "# import numpy as np \n",
    "# import matplotlib.pyplot as plt \n",
    "# # % matplotlib qt \n",
    "# # This is a magic command to display in an external window \n",
    "\n",
    "# image = cv2.imread(\"opencv_frame_0.png\", 1) \n",
    "# height, width, channels = image.shape\n",
    "# print(height,width, channels)\n",
    "# # Loading the image \n",
    "\n",
    "# half = cv2.resize(image, (0, 0), fx=0.5, fy=0.5) \n",
    "# # bigger = cv2.resize(image, (1050, 1610)) \n",
    "\n",
    "# # stretch_near = cv2.resize(image, (780, 540), \n",
    "# #             interpolation = cv2.INTER_NEAREST) \n",
    "\n",
    "\n",
    "# Titles =[\"Original\", \"Half\", \"Bigger\", \"Interpolation Nearest\"] \n",
    "# images =[image, half, bigger, stretch_near] \n",
    "# count = 2\n",
    "\n",
    "# for i in range(count): \n",
    "#     plt.subplot(2, 2, i + 1) \n",
    "#     plt.title(Titles[i]) \n",
    "#     plt.imshow(images[i]) \n",
    "\n",
    "# plt.show() \n",
    "'''\n",
    "[[size, rotation, location], ←x-axis\n",
    "[rotation, size, location]] ←y-axis\n",
    "\n",
    "[[1, 0, 0]\n",
    " [0, 1, 0]]\n",
    " \n",
    "That means, 100% of the size, zero rotation, and no change in the location — Again, I’m oversimplifying.\n",
    "\n",
    "'''"
   ]
  },
  {
   "cell_type": "code",
   "execution_count": null,
   "metadata": {},
   "outputs": [
    {
     "name": "stdout",
     "output_type": "stream",
     "text": [
      "Original Dimensions :  (1944, 2592, 3)\n",
      "Resized Dimensions :  (972, 1296, 3)\n"
     ]
    }
   ],
   "source": [
    "import cv2\n",
    "img = cv2.imread('/Users/abhibhagupta/Desktop/8th_sem/CV_lab/images/opencv_frame_0.png', cv2.IMREAD_UNCHANGED)\n",
    "\n",
    "print('Original Dimensions : ',img.shape)\n",
    "\n",
    "cv2.imshow(\"Original image\", img)\n",
    "cv2.waitKey(0)\n",
    "scale_percent = 50 # percent of original size\n",
    "width = int(img.shape[1] * scale_percent / 100)\n",
    "height = int(img.shape[0] * scale_percent / 100)\n",
    "dim = (width, height)\n",
    "  \n",
    "# resize image\n",
    "resized = cv2.resize(img, dim)\n",
    " \n",
    "print('Resized Dimensions : ',resized.shape)\n",
    "cv2.imshow(\"Resized image\", resized)\n",
    "cv2.waitKey(0)\n",
    "cv2.destroyAllWindows()"
   ]
  },
  {
   "cell_type": "code",
   "execution_count": null,
   "metadata": {},
   "outputs": [],
   "source": [
    "import cv2\n",
    "import numpy as np\n",
    "from matplotlib import pyplot as plt \n",
    " \n",
    "img = cv2.imread('/Users/abhibhagupta/Desktop/8th_sem/CV_lab/images/opencv_frame_0.png', cv2.IMREAD_UNCHANGED)\n",
    "# img = cv2.cvtColor(img, cv2.COLOR_BGR2RGB)\n",
    "\n",
    "# build a transformation matrix\n",
    "matrix = [[0.5, 0, 0], #x \n",
    "          [0, 0.5, 0]] #y\n",
    "t = np.float32(matrix)\n",
    "# get the sizes\n",
    "h, w = img.shape[:2]\n",
    "# transform\n",
    "img = cv2.warpAffine(img, t, (w, h))\n",
    "# plot\n",
    "# fig, ax = plt.subplots(1, figsize=(12,8))\n",
    "# ax.axis('off')   \n",
    "# plt.imshow(img)\n",
    "cv2.imshow(\"Resized image\", img)\n",
    "cv2.waitKey(0)\n",
    "cv2.destroyAllWindows()"
   ]
  },
  {
   "cell_type": "code",
   "execution_count": 1,
   "metadata": {
    "scrolled": true
   },
   "outputs": [],
   "source": [
    "import cv2\n",
    "import numpy as np\n",
    "from matplotlib import pyplot as plt \n",
    "img = cv2.imread('/Users/abhibhagupta/Desktop/8th_sem/CV_lab/images/opencv_frame_0.png', cv2.IMREAD_UNCHANGED)"
   ]
  },
  {
   "cell_type": "code",
   "execution_count": 59,
   "metadata": {},
   "outputs": [
    {
     "data": {
      "image/png": "[encoded data removed]",
      "text/plain": [
       "<Figure size 432x288 with 1 Axes>"
      ]
     },
     "metadata": {
      "needs_background": "light"
     },
     "output_type": "display_data"
    },
    {
     "data": {
      "image/png": "[encoded data removed]",
      "text/plain": [
       "<Figure size 432x288 with 1 Axes>"
      ]
     },
     "metadata": {
      "needs_background": "light"
     },
     "output_type": "display_data"
    },
    {
     "data": {
      "image/png": "[encoded data removed]",
      "text/plain": [
       "<Figure size 432x288 with 1 Axes>"
      ]
     },
     "metadata": {
      "needs_background": "light"
     },
     "output_type": "display_data"
    }
   ],
   "source": [
    "# plt.hist(img.ravel(), bins=256, fc='k', ec='k') #calculating histogram\n",
    "# # plt.plot(histr) \n",
    "# plt.show() \n",
    "histr1 = cv2.calcHist([img],[0],None,[256],[0,256]) #blue\n",
    "histr2 = cv2.calcHist([img],[1],None,[256],[0,256]) #green \n",
    "histr3 = cv2.calcHist([img],[2],None,[256],[0,256]) #red\n",
    "\n",
    "# show the plotting graph of an image \n",
    "plt.plot(histr1) \n",
    "plt.title('blue')\n",
    "plt.show() \n",
    "plt.plot(histr2) \n",
    "plt.title('green')\n",
    "plt.show() \n",
    "plt.plot(histr3) \n",
    "plt.title('red')\n",
    "plt.show() "
   ]
  },
  {
   "cell_type": "code",
   "execution_count": null,
   "metadata": {},
   "outputs": [],
   "source": [
    "#affine, scaling\n",
    "height, width = img.shape[:2]\n",
    "res = cv2.resize(img,(int(0.5*width), int(0.5*height)), interpolation = cv2.INTER_CUBIC)# a bicubic interpolation over 4×4 pixel neighborhood\n",
    "cv2.imshow('img',res)\n",
    "cv2.waitKey(0)"
   ]
  },
  {
   "cell_type": "code",
   "execution_count": null,
   "metadata": {},
   "outputs": [
    {
     "name": "stdout",
     "output_type": "stream",
     "text": [
      "[[  1.   0. 100.]\n",
      " [  0.   1.  50.]]\n"
     ]
    }
   ],
   "source": [
    "#affine, translation\n",
    "import cv2\n",
    "import numpy as np\n",
    "\n",
    "img = cv2.imread('/Users/abhibhagupta/Desktop/8th_sem/CV_lab/images/opencv_frame_0.png', cv2.IMREAD_UNCHANGED)\n",
    "img_=cv2.cvtColor(img, cv2.COLOR_BGR2GRAY)\n",
    "cv2.imshow('img',img_)\n",
    "cv2.waitKey(0)\n",
    "rows,cols = img_.shape\n",
    "M = np.float32([[1,0,100],[0,1,50]])\n",
    "print(M)\n",
    "dst = cv2.warpAffine(img_,M,(cols,rows))\n",
    "\n",
    "cv2.imshow('img',dst)\n",
    "cv2.waitKey(0)\n",
    "cv2.destroyAllWindows()"
   ]
  },
  {
   "cell_type": "code",
   "execution_count": null,
   "metadata": {},
   "outputs": [
    {
     "name": "stdout",
     "output_type": "stream",
     "text": [
      "[[ 6.123234e-17  1.000000e+00  3.240000e+02]\n",
      " [-1.000000e+00  6.123234e-17  2.268000e+03]]\n"
     ]
    }
   ],
   "source": [
    "#rotation\n",
    "import cv2\n",
    "import numpy as np\n",
    "img = cv2.imread('/Users/abhibhagupta/Desktop/8th_sem/CV_lab/images/opencv_frame_0.png', cv2.IMREAD_UNCHANGED)\n",
    "\n",
    "img_=cv2.cvtColor(img, cv2.COLOR_BGR2GRAY)\n",
    "rows,cols = img_.shape\n",
    "cv2.imshow('img',img_)\n",
    "cv2.waitKey(0)\n",
    "M = cv2.getRotationMatrix2D((cols/2,rows/2),90,1) #center, angle, scale\n",
    "print(M)\n",
    "dst = cv2.warpAffine(img_,M,(cols,rows))\n",
    "cv2.imshow('img',dst)\n",
    "cv2.waitKey(0)\n",
    "cv2.destroyAllWindows()"
   ]
  },
  {
   "cell_type": "code",
   "execution_count": 12,
   "metadata": {},
   "outputs": [
    {
     "ename": "error",
     "evalue": "OpenCV(4.5.1) /private/var/folders/nz/vv4_9tw56nv9k3tkvyszvwg80000gn/T/pip-req-build-oe0iat4a/opencv/modules/imgproc/src/imgwarp.cpp:3399: error: (-215:Assertion failed) src.checkVector(2, CV_32F) == 3 && dst.checkVector(2, CV_32F) == 3 in function 'getAffineTransform'\n",
     "output_type": "error",
     "traceback": [
      "\u001b[0;31m---------------------------------------------------------------------------\u001b[0m",
      "\u001b[0;31merror\u001b[0m                                     Traceback (most recent call last)",
      "\u001b[0;32m<ipython-input-12-9f15da2402d4>\u001b[0m in \u001b[0;36m<module>\u001b[0;34m\u001b[0m\n\u001b[1;32m     10\u001b[0m \u001b[0mpts2\u001b[0m \u001b[0;34m=\u001b[0m \u001b[0mnp\u001b[0m\u001b[0;34m.\u001b[0m\u001b[0mfloat32\u001b[0m\u001b[0;34m(\u001b[0m\u001b[0;34m[\u001b[0m\u001b[0;34m[\u001b[0m\u001b[0;36m10\u001b[0m\u001b[0;34m,\u001b[0m\u001b[0;36m100\u001b[0m\u001b[0;34m]\u001b[0m\u001b[0;34m,\u001b[0m\u001b[0;34m[\u001b[0m\u001b[0;36m200\u001b[0m\u001b[0;34m,\u001b[0m\u001b[0;36m50\u001b[0m\u001b[0;34m]\u001b[0m\u001b[0;34m,\u001b[0m\u001b[0;34m[\u001b[0m\u001b[0;36m100\u001b[0m\u001b[0;34m,\u001b[0m\u001b[0;36m250\u001b[0m\u001b[0;34m]\u001b[0m\u001b[0;34m,\u001b[0m\u001b[0;34m[\u001b[0m\u001b[0;36m100\u001b[0m\u001b[0;34m,\u001b[0m\u001b[0;36m101\u001b[0m\u001b[0;34m]\u001b[0m\u001b[0;34m]\u001b[0m\u001b[0;34m)\u001b[0m\u001b[0;34m\u001b[0m\u001b[0;34m\u001b[0m\u001b[0m\n\u001b[1;32m     11\u001b[0m \u001b[0;34m\u001b[0m\u001b[0m\n\u001b[0;32m---> 12\u001b[0;31m \u001b[0mM\u001b[0m \u001b[0;34m=\u001b[0m \u001b[0mcv2\u001b[0m\u001b[0;34m.\u001b[0m\u001b[0mgetAffineTransform\u001b[0m\u001b[0;34m(\u001b[0m\u001b[0mpts1\u001b[0m\u001b[0;34m,\u001b[0m\u001b[0mpts2\u001b[0m\u001b[0;34m)\u001b[0m\u001b[0;34m\u001b[0m\u001b[0;34m\u001b[0m\u001b[0m\n\u001b[0m\u001b[1;32m     13\u001b[0m \u001b[0;34m\u001b[0m\u001b[0m\n\u001b[1;32m     14\u001b[0m \u001b[0mdst\u001b[0m \u001b[0;34m=\u001b[0m \u001b[0mcv2\u001b[0m\u001b[0;34m.\u001b[0m\u001b[0mwarpAffine\u001b[0m\u001b[0;34m(\u001b[0m\u001b[0mimg\u001b[0m\u001b[0;34m,\u001b[0m\u001b[0mM\u001b[0m\u001b[0;34m,\u001b[0m\u001b[0;34m(\u001b[0m\u001b[0mcols\u001b[0m\u001b[0;34m,\u001b[0m\u001b[0mrows\u001b[0m\u001b[0;34m)\u001b[0m\u001b[0;34m)\u001b[0m\u001b[0;34m\u001b[0m\u001b[0;34m\u001b[0m\u001b[0m\n",
      "\u001b[0;31merror\u001b[0m: OpenCV(4.5.1) /private/var/folders/nz/vv4_9tw56nv9k3tkvyszvwg80000gn/T/pip-req-build-oe0iat4a/opencv/modules/imgproc/src/imgwarp.cpp:3399: error: (-215:Assertion failed) src.checkVector(2, CV_32F) == 3 && dst.checkVector(2, CV_32F) == 3 in function 'getAffineTransform'\n"
     ]
    }
   ],
   "source": [
    "#affine transform\n",
    "import cv2\n",
    "import numpy as np\n",
    "from matplotlib import pyplot as plt \n",
    "\n",
    "img = cv2.imread('/Users/abhibhagupta/Desktop/8th_sem/CV_lab/images/opencv_frame_0.png')\n",
    "rows,cols,ch = img.shape\n",
    "\n",
    "pts1 = np.float32([[50,50],[200,50],[50,200]])\n",
    "pts2 = np.float32([[10,100],[200,50],[100,250]])\n",
    "\n",
    "M = cv2.getAffineTransform(pts1,pts2)\n",
    "\n",
    "dst = cv2.warpAffine(img,M,(cols,rows))\n",
    "\n",
    "\n",
    "\n",
    "plt.subplot(121),plt.imshow(img),plt.title('Input')\n",
    "plt.subplot(122),plt.imshow(dst),plt.title('Output')\n",
    "plt.show()"
   ]
  },
  {
   "cell_type": "markdown",
   "metadata": {},
   "source": [
    "## Lab2 "
   ]
  },
  {
   "cell_type": "code",
   "execution_count": 3,
   "metadata": {},
   "outputs": [
    {
     "name": "stdout",
     "output_type": "stream",
     "text": [
      "['blue_channel.jpg']\n"
     ]
    },
    {
     "ename": "TypeError",
     "evalue": "Can't convert object of type 'list' to 'str' for 'filename'",
     "output_type": "error",
     "traceback": [
      "\u001b[0;31m---------------------------------------------------------------------------\u001b[0m",
      "\u001b[0;31mTypeError\u001b[0m                                 Traceback (most recent call last)",
      "\u001b[0;32m<ipython-input-3-632dc8da8513>\u001b[0m in \u001b[0;36m<module>\u001b[0;34m\u001b[0m\n\u001b[1;32m     12\u001b[0m \u001b[0mimages\u001b[0m \u001b[0;34m=\u001b[0m \u001b[0mglob\u001b[0m\u001b[0;34m.\u001b[0m\u001b[0mglob\u001b[0m\u001b[0;34m(\u001b[0m\u001b[0;34m'*.jpg'\u001b[0m\u001b[0;34m)\u001b[0m\u001b[0;34m\u001b[0m\u001b[0;34m\u001b[0m\u001b[0m\n\u001b[1;32m     13\u001b[0m \u001b[0mprint\u001b[0m\u001b[0;34m(\u001b[0m\u001b[0mimages\u001b[0m\u001b[0;34m)\u001b[0m\u001b[0;34m\u001b[0m\u001b[0;34m\u001b[0m\u001b[0m\n\u001b[0;32m---> 14\u001b[0;31m \u001b[0mimg\u001b[0m \u001b[0;34m=\u001b[0m \u001b[0mcv\u001b[0m\u001b[0;34m.\u001b[0m\u001b[0mimread\u001b[0m\u001b[0;34m(\u001b[0m\u001b[0mimages\u001b[0m\u001b[0;34m)\u001b[0m\u001b[0;34m\u001b[0m\u001b[0;34m\u001b[0m\u001b[0m\n\u001b[0m\u001b[1;32m     15\u001b[0m \u001b[0mcv\u001b[0m\u001b[0;34m.\u001b[0m\u001b[0mimshow\u001b[0m\u001b[0;34m(\u001b[0m\u001b[0;34m'img'\u001b[0m\u001b[0;34m,\u001b[0m \u001b[0mimg\u001b[0m\u001b[0;34m)\u001b[0m\u001b[0;34m\u001b[0m\u001b[0;34m\u001b[0m\u001b[0m\n\u001b[1;32m     16\u001b[0m \u001b[0;31m# for fname in images:\u001b[0m\u001b[0;34m\u001b[0m\u001b[0;34m\u001b[0m\u001b[0;34m\u001b[0m\u001b[0m\n",
      "\u001b[0;31mTypeError\u001b[0m: Can't convert object of type 'list' to 'str' for 'filename'"
     ]
    }
   ],
   "source": [
    "import numpy as np\n",
    "import cv2 as cv\n",
    "import glob\n",
    "# termination criteria\n",
    "criteria = (cv.TERM_CRITERIA_EPS + cv.TERM_CRITERIA_MAX_ITER, 30, 0.001)\n",
    "# prepare object points, like (0,0,0), (1,0,0), (2,0,0) ....,(6,5,0)\n",
    "objp = np.zeros((6*7,3), np.float32)\n",
    "objp[:,:2] = np.mgrid[0:7,0:6].T.reshape(-1,2)\n",
    "# Arrays to store object points and image points from all the images.\n",
    "objpoints = [] # 3d point in real world space\n",
    "imgpoints = [] # 2d points in image plane.\n",
    "images = glob.glob('*.jpg')\n",
    "print(images)\n",
    "img = cv.imread(images)\n",
    "cv.imshow('img', img)\n",
    "# for fname in images:\n",
    "#     img = cv.imread(fname)\n",
    "#     gray = cv.cvtColor(img, cv.COLOR_BGR2GRAY)\n",
    "#     # Find the chess board corners\n",
    "#     ret, corners = cv.findChessboardCorners(gray, (7,6), None)\n",
    "#     # If found, add object points, image points (after refining them)\n",
    "#     if ret == True:\n",
    "#         objpoints.append(objp)\n",
    "#         corners2 = cv.cornerSubPix(gray,corners, (11,11), (-1,-1), criteria)\n",
    "#         imgpoints.append(corners)\n",
    "#         # Draw and display the corners\n",
    "#         cv.drawChessboardCorners(img, (7,6), corners2, ret)\n",
    "#         cv.imshow('img', img)\n",
    "#         cv.waitKey(500)\n",
    "# cv.destroyAllWindows()"
   ]
  },
  {
   "cell_type": "code",
   "execution_count": null,
   "metadata": {},
   "outputs": [],
   "source": []
  }
 ],
 "metadata": {
  "kernelspec": {
   "display_name": "Python 3",
   "language": "python",
   "name": "python3"
  },
  "language_info": {
   "codemirror_mode": {
    "name": "ipython",
    "version": 3
   },
   "file_extension": ".py",
   "mimetype": "text/x-python",
   "name": "python",
   "nbconvert_exporter": "python",
   "pygments_lexer": "ipython3",
   "version": "3.9.2"
  }
 },
 "nbformat": 4,
 "nbformat_minor": 4
}
